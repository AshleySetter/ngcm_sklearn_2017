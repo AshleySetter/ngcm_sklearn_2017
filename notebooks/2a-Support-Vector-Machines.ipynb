{
 "cells": [
  {
   "cell_type": "markdown",
   "metadata": {},
   "source": [
    "# Supervised Learning: Support Vector Machines"
   ]
  },
  {
   "cell_type": "markdown",
   "metadata": {},
   "source": [
    "The support vector machine (SVM) is a classification method that attempts to find a hyperplane that separates classes of observations in **feature space**.\n",
    "\n",
    "The SVM is not a probabilistic model for classification. It does not produce probabilities. Instead, we directly calculate a **separating hyperplane**.\n",
    "\n",
    "Consider the *logistic regression model*, which transforms a linear combination of predictors with the logistic function.\n",
    "\n",
    "$$g_{\\theta}(x) = \\frac{1}{1+\\exp(-\\theta^{\\prime} x)}$$\n",
    "\n",
    "Notice that when our response is $y=1$, we want the product $\\theta^{\\prime} x$ to be a very large, positive value so that $g_{\\theta}(x) \\rightarrow 1$, and when $y=0$, we want this product to be a very large, negative value, so that $g_{\\theta}(x) \\rightarrow 0$."
   ]
  },
  {
   "cell_type": "code",
   "execution_count": null,
   "metadata": {},
   "outputs": [],
   "source": [
    "%matplotlib inline\n",
    "import numpy as np\n",
    "import pandas as pd\n",
    "from scipy.special import expit\n",
    "import matplotlib.pyplot as plt\n",
    "import seaborn as sns\n",
    "\n",
    "sns.set()\n",
    "                        \n",
    "theta = [2, -0.5]\n",
    "x = np.c_[np.ones(100), np.linspace(-10,20,100)]\n",
    "\n",
    "y = expit(x.dot(theta))\n",
    "\n",
    "plt.plot(x.dot(theta), y)\n",
    "plt.ylabel(\"$p(y)=1}$\", fontsize=16)\n",
    "plt.xlabel(\"$\\\\theta^\\\\prime x$\", fontsize=16)"
   ]
  },
  {
   "cell_type": "markdown",
   "metadata": {},
   "source": [
    "The negative log-likelihood (or **cost function**) for the logistic regression model is as follows:\n",
    "\n",
    "$$l(y_i|\\theta,x) = -[y_i \\log g_{\\theta}(x) + (1-y_i)\\log(1-g_{\\theta}(x))]$$\n",
    "\n",
    "Consider the case where $y_i=1$. This implies that the cost function is:\n",
    "\n",
    "$$l(y_i=1|\\theta,x) = - \\log \\left[ \\frac{1}{1+\\exp(-\\theta\\prime x)} \\right]$$\n",
    "\n",
    "As $\\theta$ increases, the cost function decreases."
   ]
  },
  {
   "cell_type": "code",
   "execution_count": null,
   "metadata": {},
   "outputs": [],
   "source": [
    "plt.plot(x.dot(theta), -np.log(y))\n",
    "plt.ylabel(\"$g_\\\\theta(x)$\", fontsize=16)\n",
    "plt.xlabel(\"$\\\\theta^\\\\prime x$\", fontsize=16)"
   ]
  },
  {
   "cell_type": "markdown",
   "metadata": {},
   "source": [
    "and when $y_i=0$:\n",
    "\n",
    "$$l(y_i=0|\\theta,x) = - \\log \\left[ 1 - \\frac{1}{1+\\exp(-\\theta\\prime x)} \\right]$$\n",
    "\n",
    "As $\\theta$ increases the cost increases."
   ]
  },
  {
   "cell_type": "code",
   "execution_count": null,
   "metadata": {},
   "outputs": [],
   "source": [
    "plt.plot(x.dot(theta), -np.log(1.-y))\n",
    "plt.ylabel(\"$g_\\\\theta(x)$\", fontsize=16)\n",
    "plt.xlabel(\"$\\\\theta^\\\\prime x$\", fontsize=16)"
   ]
  },
  {
   "cell_type": "markdown",
   "metadata": {},
   "source": [
    "One way to develop a support vector machine is to modify the logistic regression model by substituting a different cost function, which is just a **piecewise linear function**.\n",
    "\n",
    "$$g_\\theta(x) = \\max(0, 1 - \\theta^\\prime x)$$\n",
    "\n",
    "For $y_i=1$:"
   ]
  },
  {
   "cell_type": "code",
   "execution_count": null,
   "metadata": {},
   "outputs": [],
   "source": [
    "plt.plot(x.dot(theta), -np.log(y))\n",
    "\n",
    "hinge_cost = lambda x, theta: np.maximum(0, 1 - x.dot(theta))\n",
    "\n",
    "plt.plot(x.dot(theta), hinge_cost(x, theta), 'r-')\n",
    "plt.ylabel(\"$g_\\\\theta(x)$\", fontsize=16)\n",
    "plt.xlabel(\"$\\\\theta^\\\\prime x$\", fontsize=16)"
   ]
  },
  {
   "cell_type": "markdown",
   "metadata": {},
   "source": [
    "For $y_i=0$:"
   ]
  },
  {
   "cell_type": "code",
   "execution_count": null,
   "metadata": {},
   "outputs": [],
   "source": [
    "plt.plot(x.dot(theta), -np.log(1-y))\n",
    "\n",
    "hinge_cost = lambda x, theta: np.maximum(0, 1 + x.dot(theta))\n",
    "\n",
    "plt.plot(x.dot(theta), hinge_cost(x, theta), 'r-')\n",
    "plt.ylabel(\"$g_\\\\theta(x)$\", fontsize=16)\n",
    "plt.xlabel(\"$\\\\theta^\\\\prime x$\", fontsize=16)"
   ]
  },
  {
   "cell_type": "markdown",
   "metadata": {},
   "source": [
    "Now consider the estimation of the parameters of a *regularized* logistic regression model. This is typically by minimizing:\n",
    "\n",
    "$$\\min_{\\theta} \\frac{1}{n} \\left[ \\sum_{i=1}^n -y_i\\log g_{\\theta}(x_i) + (1-y_i)(-\\log(1-g_{\\theta}(x_i))) \\right] + \\frac{\\lambda}{2n} \\sum_{j=1}^k \\theta^2_j$$\n",
    "\n",
    "for the support vector machine, we instead substitute our cost function (which we will call $k$) in place of the logistic regression likelihood:\n",
    "\n",
    "$$\\min_{\\theta} \\left[ C \\sum_{i=1}^n y_i k_1(\\theta^{\\prime} x_i) + (1-y_i) k_0(\\theta^{\\prime} x_i) \\right] + \\frac{1}{2}\\sum_{j=1}^k \\theta^2_j$$\n",
    "\n",
    "where the parameter $C$ plays a role equivalent to $1/\\lambda$."
   ]
  },
  {
   "cell_type": "markdown",
   "metadata": {},
   "source": [
    "Notice that to make these cost functions $k$ small, we want $x \\ge 1$ or $x \\le -1$ rather than just being greater than or less than zero, for $y=1$ or $y=0$, respectively. If we set the parameter $C$ very large, we would want the summation term to be equal or close to zero in order to minimize the overall optimization objective.\n",
    "\n",
    "This objective then essentially becomes:\n",
    "\n",
    "$$\\min_{\\theta} \\frac{1}{2} \\sum_{j=1}^k \\theta^2_j$$\n",
    "\n",
    "subject to: \n",
    "\n",
    "$$\\begin{aligned}\\theta^{\\prime} x_i \\ge 1 &\\text{ if } y_i=1 \\\\\n",
    "\\theta^{\\prime} x_i \\le -1 &\\text{ if } y_i=0\n",
    "\\end{aligned}$$"
   ]
  },
  {
   "cell_type": "markdown",
   "metadata": {},
   "source": [
    "Consider a dataset with two linearly separable groups."
   ]
  },
  {
   "cell_type": "code",
   "execution_count": null,
   "metadata": {},
   "outputs": [],
   "source": [
    "import warnings\n",
    "warnings.simplefilter('ignore')\n",
    "\n",
    "g1 = np.random.multivariate_normal((-1, -1), np.eye(2)*0.2, 10)\n",
    "g2 = np.random.multivariate_normal((1, 1), np.eye(2)*0.2, 10)\n",
    "\n",
    "plt.scatter(*g1.T, color='r')\n",
    "plt.scatter(*g2.T, color='b')\n",
    "\n",
    "plt.xlim(-2,2); plt.ylim(-2,2);"
   ]
  },
  {
   "cell_type": "markdown",
   "metadata": {},
   "source": [
    "One possible separation is a line that passes very close to points in both groups."
   ]
  },
  {
   "cell_type": "code",
   "execution_count": null,
   "metadata": {
    "collapsed": true
   },
   "outputs": [],
   "source": [
    "x, y = np.transpose([g1[np.where(g1.T[1] == g1.max(0)[1])[0][0]], \n",
    "                     g2[np.where(g2.T[1] == g2.min(0)[1])[0][0]]])"
   ]
  },
  {
   "cell_type": "code",
   "execution_count": null,
   "metadata": {},
   "outputs": [],
   "source": [
    "plt.scatter(*g1.T, color='r')\n",
    "plt.scatter(*g2.T, color='b')\n",
    "\n",
    "x, y = np.transpose([g1[np.where(g1.T[1] == g1.max(0)[1])[0][0]], \n",
    "                     g2[np.where(g2.T[1] == g2.min(0)[1])[0][0]]])\n",
    "b0, b1 = np.linalg.lstsq(np.c_[[1, 1], x], y)[0]\n",
    "xspace = np.linspace(-3, 3, 100)\n",
    "plt.plot(xspace, b0 + (b1 - .1) * xspace, 'k--')\n",
    "plt.xlim(-2, 2); plt.ylim(-2,2);"
   ]
  },
  {
   "cell_type": "markdown",
   "metadata": {},
   "source": [
    "This seems like a poor choice of decision boundary, even though it separates the groups, because it may not be a *robust* solution. SVM avoids this by establishing a **margin** between the decision boundary and the nearest points in each group. This margin is maximized under SVM, and is partly the result of using 1 and -1 as the thresholds for the cost function, rather than zero."
   ]
  },
  {
   "cell_type": "markdown",
   "metadata": {},
   "source": [
    "## Large-margin Classification\n",
    "\n",
    "To understand how SVM incorporates a margin into its decision boundary, it helps to re-write our objective function in terms of the norm (length) of the parameter vector:\n",
    "\n",
    "$$\\min_{\\theta} \\frac{1}{2} \\sum_{j=1}^k \\theta^2_j = \\min_{\\theta} \\frac{1}{2} ||\\theta||^2$$\n",
    "\n",
    "Recall that when we take the inner product of two vectors, we are essentially projecting the values of one vector onto the other, in order to add them. In the case of our inner product $\\theta^{\\prime} x_i$, we are projecting the ith component of $x$ onto the parameter vector $\\theta$. We can therefore re-write this inner product in terms of multiplying vector lengths:\n",
    "\n",
    "$$\\theta^{\\prime} x_i = p_i ||\\theta||$$\n",
    "\n",
    "where $p_i$ is the **projection** of $x_i$ onto $\\theta$. The objective function now becomes:\n",
    "\n",
    "$$\\min_{\\theta} \\frac{1}{2} ||\\theta||^2$$\n",
    "$$\\begin{aligned}\n",
    "\\text{subject to }p_i ||\\theta|| \\ge 1 &\\text{ if } y_i=1 \\\\\n",
    "p_i ||\\theta|| \\le -1 &\\text{ if } y_i=0\n",
    "\\end{aligned}$$"
   ]
  },
  {
   "cell_type": "markdown",
   "metadata": {},
   "source": [
    "In order to satisfy this criterion for a given parameter vector $\\theta$, we want the $p_i$ to be *as large as possible*. However, when the decision boundary is close to points in the dataset, the corresponding $p_i$ values will be very small, since they are being projected onto the $\\theta$ vector, which is perpendicular to the decision boundary.\n",
    "\n",
    "Here is a graphical illustration of the difference between two boundary choices, in terms of $p_i$ values.\n",
    "\n",
    "First, a boundary choice that passes closely to the points of each class:"
   ]
  },
  {
   "cell_type": "code",
   "execution_count": null,
   "metadata": {},
   "outputs": [],
   "source": [
    "frame = plt.gca()\n",
    "frame.axes.yaxis.set_ticklabels([])\n",
    "frame.axes.xaxis.set_ticklabels([])\n",
    "\n",
    "x1 = -1, 0\n",
    "x2 = 1, 1\n",
    "\n",
    "plt.scatter(*x1, s=300, marker='o')\n",
    "plt.scatter(*x2, s=300, marker='o', color='r')\n",
    "plt.plot([-1.5, 1.5],[0,1], 'k-');"
   ]
  },
  {
   "cell_type": "markdown",
   "metadata": {},
   "source": [
    "The vector of parameters $\\theta$ of the hyperplane is the **normal vector**, and it is *orthogonal* to the hyperplane surface that we are using as a decision boundary:"
   ]
  },
  {
   "cell_type": "code",
   "execution_count": null,
   "metadata": {},
   "outputs": [],
   "source": [
    "plt.scatter(*x1, s=300, marker='o')\n",
    "plt.scatter(*x2, s=300, marker='o', color='r')\n",
    "plt.plot([-1.5, 1.5],[0,1], 'k-')\n",
    "plt.plot([-.5, .75], [1, 0], 'k--')\n",
    "plt.annotate(r\"$\\theta$\", xy=(-0.4, 1), fontsize=20);"
   ]
  },
  {
   "cell_type": "markdown",
   "metadata": {},
   "source": [
    "In order to see what the $p_i$ values will be, we drop perpendicular lines down to the parameter vector $\\theta$. Notice that for this decision boundary, the resulting $p_i$ are quite small (either positive or negative). In order to satisfy our constraint, this will force $||\\theta||$ to be large, which is not desirable given our objective."
   ]
  },
  {
   "cell_type": "code",
   "execution_count": null,
   "metadata": {},
   "outputs": [],
   "source": [
    "plt.scatter(*x1, s=300, marker='o')\n",
    "plt.scatter(*x2, s=300, marker='o', color='r')\n",
    "plt.plot([-1.5, 1.5],[0,1], 'k-')\n",
    "plt.plot([-.5, .75], [1, 0], 'k--')\n",
    "plt.annotate(r\"$\\theta$\", xy=(-0.4, 1), fontsize=20)\n",
    "\n",
    "plt.arrow(-1, 0, 3*(.35), .35, fc=\"b\", ec=\"b\", head_width=0.07, head_length=0.2)\n",
    "plt.arrow(1, 1, -3*(.28), -.28, fc=\"r\", ec=\"r\", head_width=0.07, head_length=0.2);"
   ]
  },
  {
   "cell_type": "markdown",
   "metadata": {},
   "source": [
    "Now consider another decision boundary, which intuitively appears to be a better choice."
   ]
  },
  {
   "cell_type": "code",
   "execution_count": null,
   "metadata": {},
   "outputs": [],
   "source": [
    "plt.scatter(*x1, s=300, marker='o')\n",
    "plt.scatter(*x2, s=300, marker='o', color='r')\n",
    "plt.plot([-.5,.5], [1.5,-.5], 'k-');"
   ]
  },
  {
   "cell_type": "markdown",
   "metadata": {},
   "source": [
    "We can confirm this in terms of our objective function, by showing the corresponding projections $p_i$ to be large, which allows our parameter vector norm to be smaller."
   ]
  },
  {
   "cell_type": "code",
   "execution_count": null,
   "metadata": {},
   "outputs": [],
   "source": [
    "plt.scatter(*x1, s=300, marker='o')\n",
    "plt.scatter(*x2, s=300, marker='o', color='r')\n",
    "plt.plot([-.5,.5], [1.5,-.5], 'k-')\n",
    "plt.plot([-1, 1], [-.5, 1.7], 'k--')\n",
    "plt.annotate(r\"$\\theta$\", xy=(0.6, 1.5), fontsize=20)\n",
    "\n",
    "plt.arrow(-1, 0, .1, -.2, fc=\"b\", ec=\"b\", head_width=0.07, head_length=0.1)\n",
    "plt.arrow(1, 1, -.2, .37, fc=\"r\", ec=\"r\", head_width=0.07, head_length=0.1);"
   ]
  },
  {
   "cell_type": "markdown",
   "metadata": {},
   "source": [
    "Thus, the values of $\\{p_i\\}$ define a *margin* that we are attempting to maximize to aid robust classification."
   ]
  },
  {
   "cell_type": "markdown",
   "metadata": {},
   "source": [
    "## Feature Expansion\n",
    "\n",
    "In general, when the number of sample points is smaller than the dimension, you can always find a perfect separating hyperplane. On the other hand, when the number of points is large relative to the number of dimensions it is usually impossible.\n",
    "\n",
    "One way, then, of potentially improving a classifying hyperplane is to increase the dimension of the variable space to create a feature space. One easy way of expanding features is to include transformations of existing variables, such as polynomial expansion.\n",
    "\n",
    "Let's consider the simplest possible example of two linearly-inseparable classes, using just a single dimensions. Here we have red and blue points distributed along a line."
   ]
  },
  {
   "cell_type": "code",
   "execution_count": null,
   "metadata": {},
   "outputs": [],
   "source": [
    "reds = np.array([1, 2, 2.5])\n",
    "blues = np.array([-2, -1.4, 0.2, 3.1, 5])\n",
    "\n",
    "plt.scatter(reds, [0]*len(reds), color='r')\n",
    "plt.scatter(blues, [0]*len(blues), color='b')"
   ]
  },
  {
   "cell_type": "markdown",
   "metadata": {},
   "source": [
    "Clearly, it is impossible to draw a straight line anywhere that will separate the two classes. However, if we create a feature that is just a quadratic function of the original data, the classes become linearly separable."
   ]
  },
  {
   "cell_type": "code",
   "execution_count": null,
   "metadata": {},
   "outputs": [],
   "source": [
    "func = lambda x: (x - 2) **2\n",
    "\n",
    "red_features = [reds, func(reds)]\n",
    "blue_features = [blues, func(blues)]\n",
    "\n",
    "plt.scatter(*red_features, color='r')\n",
    "plt.scatter(*blue_features, color='b')\n",
    "\n",
    "xvals = np.linspace(-3, 6)\n",
    "plt.plot(xvals, 2 - 0.5*xvals, 'k--');"
   ]
  },
  {
   "cell_type": "markdown",
   "metadata": {},
   "source": [
    "More generally, we can create a higher-order polynomial function to use as a decision boundary. For example,\n",
    "\n",
    "$$y = \\left\\{ \\begin{aligned} 1 &\\text{if } \\theta_0 + \\theta_1 x_1 + \\theta_2 x_2 + \\theta_3 x_1 x_2 + \\theta_4 x_1^2 + \\ldots \\ge 0 \\\\\n",
    "0 &\\text{ otherwise}\\end{aligned}\\right.$$\n",
    "\n",
    "But, this mapping can substantially *increase the number of features* to consider, and calculating all the polynomial terms can be expensive.\n",
    "\n",
    "## Kernels\n",
    "\n",
    "An alternative is to employ a function that measures the similarity between two points in the feature space. Generically, such functions are called **kernels**, and they are characterized by being positive and symmetric, in the sense that for kernel $k$, $k(x,x^{\\prime}) = k(x^{\\prime}, x)$ (see [Mercer's Theorem](http://www.wikiwand.com/en/Mercer's_theorem)).\n",
    "\n",
    "You can think of kernels as dot products where we can \"cheat\" and calculate the value of the dot product between two points without having to explicitly calculate all their feature values. This shortcut is generally referred to as the **kernel trick**\n"
   ]
  },
  {
   "cell_type": "markdown",
   "metadata": {},
   "source": [
    "To motivate the need for kernels, let's generate some simulated data which is not linearly separable:"
   ]
  },
  {
   "cell_type": "code",
   "execution_count": null,
   "metadata": {},
   "outputs": [],
   "source": [
    "from sklearn.datasets.samples_generator import make_circles\n",
    "X, y = make_circles(100, factor=.1, noise=.1)\n",
    "\n",
    "plt.scatter(X[:, 0], X[:, 1], c=y, s=50, cmap='plasma')"
   ]
  },
  {
   "cell_type": "markdown",
   "metadata": {},
   "source": [
    "Clearly, no linear discrimination will ever separate these data. One way we can adjust this is to apply a functional transformation of the input data.\n",
    "\n",
    "For example, one simple kernel we could use is a radial basis function. An RBF is a function whose value depends only on its distance from the origin."
   ]
  },
  {
   "cell_type": "code",
   "execution_count": null,
   "metadata": {
    "collapsed": true
   },
   "outputs": [],
   "source": [
    "r = np.exp(-(X[:, 0] ** 2 + X[:, 1] ** 2))"
   ]
  },
  {
   "cell_type": "markdown",
   "metadata": {},
   "source": [
    "If we plot our data after being transformed by `r`, we can see that the data becomes linearly separable."
   ]
  },
  {
   "cell_type": "code",
   "execution_count": null,
   "metadata": {},
   "outputs": [],
   "source": [
    "from mpl_toolkits import mplot3d\n",
    "\n",
    "def plot_3D(elev=30, azim=50):\n",
    "    ax = plt.subplot(projection='3d')\n",
    "    ax.scatter3D(X[:, 0], X[:, 1], r, c=y, s=50, cmap='plasma')\n",
    "    ax.view_init(elev=elev, azim=azim)\n",
    "    ax.set_xlabel('x')\n",
    "    ax.set_ylabel('y')\n",
    "    ax.set_zlabel('r')\n",
    "\n",
    "plot_3D()"
   ]
  },
  {
   "cell_type": "markdown",
   "metadata": {},
   "source": [
    "One common kernel is the Gaussian:\n",
    "\n",
    "$$k(x, x^{\\prime}) = \\exp\\left[-\\frac{||x-x^{\\prime}||^2}{2 \\sigma^2}\\right]$$\n",
    "\n",
    "Notice that when $x$ and $x^{\\prime}$ are close to one another, the numerator approaches zero and $k(x,x^{\\prime}) \\approx 1$, while when they are far apart the numerator becomes large and $k(x,x^{\\prime}) \\approx 0$. The parameter $\\sigma$ controls how quickly an increased distance causes the value of the kernel to fall toward zero.\n",
    "\n",
    "If we associate a kernel with *each point* for a particular group that we are using as training examples, our classification function becomes:\n",
    "\n",
    "$$y = \\left\\{ \\begin{aligned} 1 &\\text{if } \\theta_0 + \\theta_1 k(x,x_1) + \\theta_2 k(x,x_2) + \\ldots \\ge 0\\\\\n",
    "0 &\\text{ otherwise}\\end{aligned}\\right.$$\n",
    "\n",
    "Consider particular values for the parameters, such as $\\theta_0=-0.5$ and $\\theta_i=1, \\, i=1,2,\\ldots$. This would result in the function evaluating to approximately 0.5 for a location that is close to any of the points in the set, and to -0.5 for locations that are reasonably far from all the points (as determined by the value of $\\sigma$).\n",
    "\n",
    "For each feature $(x_i, y_i)$ in our dataset, we can calculate the similarity to each feature via the selected kernel:\n",
    "\n",
    "$$f_i = \\left[\\begin{align}\n",
    "k(x_i, &x_0) \\\\\n",
    "k(x_i, &x_1) \\\\\n",
    "k(x_i, &x_2) \\\\\n",
    "\\vdots & \\\\\n",
    "k(x_i, &x_n)\n",
    "\\end{align}\\right]$$\n",
    "\n",
    "notice that, under the Gaussian kernel at least, there will be one element $k(x_i, x_i)$ that evaluates to 1.\n",
    "\n",
    "To use the SVM, we use this $f \\in \\mathbb{R}^{n+1}$ to calculate the inner product $\\theta^{\\prime} f$ and predict $y_i=1$ if $\\theta^{\\prime} f_i \\ge 0$. We obtain the parameters for $\\theta$ by minimizing:\n",
    "\n",
    "$$\\min_{\\theta} \\left[ C \\sum_{i=1}^n y_i k_1(\\theta^{\\prime} f_i) + (1-y_i) k_0(\\theta^{\\prime} f_i) \\right] + \\frac{1}{2}\\sum_{j=1}^k \\theta^2_j$$\n"
   ]
  },
  {
   "cell_type": "markdown",
   "metadata": {},
   "source": [
    "### Regularization and soft margins\n",
    "\n",
    "There remains a choice to be made for the values of the SVM parameters. Recall $C$, which corresponds to the inverse of the regularization parameter in a lasso model. This choice of $C$ involves a **bias-variance tradeoff**:\n",
    "\n",
    "* large C = low bias, high variance\n",
    "* small C = high bias, low variance\n",
    "\n",
    "In a support vector machine, regularization results in a **soft margin** that allows some points to cross the optimal decision boundary (resulting in misclassifiction for those points). As C gets larger, the more stable the margin becomes, since it is allowing more points to determine the margin.\n",
    "\n",
    "We can think of C as a \"budget\" for permitting points to exceed the margin. We can tune C to determine the optimal hyperplane.\n",
    "\n",
    "Similarly, if we are using the Gaussian kernel, we must choose a value for $\\sigma^2$. When $\\sigma^2$ is large, then features are considered similar over greater distances, resulting in a smoother decision boundary, while for smaller $\\sigma^2$, similarity falls off quickly with distance.\n",
    "\n",
    "* large $\\sigma^2$ = high bias, low variance\n",
    "* small $\\sigma^2$ = low bias, high variance"
   ]
  },
  {
   "cell_type": "markdown",
   "metadata": {},
   "source": [
    "### Linear kernel\n",
    "\n",
    "The simplest choice of kernel is to use no kernel at all, but rather to simply use the **linear combination** of the features themselves as the kernel. Hence,\n",
    "\n",
    "$$y = \\left\\{ \\begin{aligned} 1 &\\text{, if } \\theta^{\\prime} x \\ge 0\\\\\n",
    "0 &\\text{ otherwise}\\end{aligned}\\right.$$\n",
    "\n",
    "This approach is useful when there are a *large number of features*, but the *size of the dataset is small*. In this case, a simple linear decision boundary may be appropriate given that there is relatively little data. If the reverse is true, where there are a small number of features and plenty of data, a Gaussian kernel may be more appropriate, as it allows for a more complex decision boundary."
   ]
  },
  {
   "cell_type": "markdown",
   "metadata": {},
   "source": [
    "## Multi-class Classification\n",
    "\n",
    "In the exposition above, we have addressed binary classification problems. The SVM can be generalized to multi-class classification. This involves training $K$ binary classifiers, where each of $k=1,\\ldots,K$ classes is trained against the remaining classes pooled into a single group (\"all-versus-one\"). Then for each point, we select the class for which the inner product $\\theta_k^{\\prime} x$ is largest."
   ]
  },
  {
   "cell_type": "markdown",
   "metadata": {},
   "source": [
    "## SVM using `scikit-learn`\n",
    "\n",
    "The scikit-learn machine learning package for Python includes a nice implementation of support vector machines."
   ]
  },
  {
   "cell_type": "code",
   "execution_count": null,
   "metadata": {
    "collapsed": true
   },
   "outputs": [],
   "source": [
    "from sklearn import svm"
   ]
  },
  {
   "cell_type": "markdown",
   "metadata": {},
   "source": [
    "Let's begin with a fun enological example. There is a dataset `wine.dat` in the data folder that is the result of chemical analyses of wines grown in the same region in Italy but derived from three different cultivars. The analysis determined the quantities of 13 constituents found in each of the three types of wines. (The response variable is incorrectly labeled `region`; it should be the grape from which the wine was derived). We might be able to correctly classify a given wine based on its chemical profile.\n",
    "\n",
    "To illustrate the characteristics of the SVM, we will select two attributes, which will make things easy to visualize."
   ]
  },
  {
   "cell_type": "code",
   "execution_count": null,
   "metadata": {},
   "outputs": [],
   "source": [
    "wine = pd.read_table(\"../data/textbook/wine.dat\", sep='\\s+')\n",
    "\n",
    "attributes = [\n",
    "    'Alcohol',\n",
    "    'Malic acid',\n",
    "    'Ash',\n",
    "    'Alcalinity of ash',\n",
    "    'Magnesium',\n",
    "    'Total phenols',\n",
    "    'Flavanoids',\n",
    "    'Nonflavanoid phenols',\n",
    "    'Proanthocyanins',\n",
    "    'Color intensity',\n",
    "    'Hue',\n",
    "    'OD280/OD315 of diluted wines',\n",
    "    'Proline'\n",
    "]\n",
    "\n",
    "grape = wine.pop('region')\n",
    "y = grape.values\n",
    "wine.columns = attributes\n",
    "X = wine[['Alcohol', 'Proline']].values\n",
    "\n",
    "svc = svm.SVC(kernel='linear')\n",
    "svc.fit(X, y)"
   ]
  },
  {
   "cell_type": "code",
   "execution_count": null,
   "metadata": {},
   "outputs": [],
   "source": [
    "wine.head()"
   ]
  },
  {
   "cell_type": "markdown",
   "metadata": {},
   "source": [
    "It is easiest to display the model fit graphically, by evaluating the model over a grid of points."
   ]
  },
  {
   "cell_type": "code",
   "execution_count": null,
   "metadata": {
    "collapsed": true
   },
   "outputs": [],
   "source": [
    "from matplotlib.colors import ListedColormap\n",
    "# Create color maps for 3-class classification problem, as with iris\n",
    "cmap_light = ListedColormap(['#FFAAAA', '#AAFFAA', '#AAAAFF'])\n",
    "cmap_bold = ListedColormap(['#FF0000', '#00FF00', '#0000FF'])\n",
    "\n",
    "def plot_estimator(estimator, X, y, ax=None):\n",
    "    \n",
    "    try:\n",
    "        X, y = X.values, y.values\n",
    "    except AttributeError:\n",
    "        pass\n",
    "    \n",
    "    estimator.fit(X, y)\n",
    "    x_min, x_max = X[:, 0].min() - .1, X[:, 0].max() + .1\n",
    "    y_min, y_max = X[:, 1].min() - .1, X[:, 1].max() + .1\n",
    "    xx, yy = np.meshgrid(np.linspace(x_min, x_max, 100),\n",
    "                         np.linspace(y_min, y_max, 100))\n",
    "    Z = estimator.predict(np.c_[xx.ravel(), yy.ravel()])\n",
    "\n",
    "    # Put the result into a color plot\n",
    "    Z = Z.reshape(xx.shape)\n",
    "    \n",
    "    if ax is None:\n",
    "        fig, ax = plt.subplots()\n",
    "    ax.pcolormesh(xx, yy, Z, cmap=cmap_light)\n",
    "\n",
    "    # Plot also the training points\n",
    "    ax.scatter(X[:, 0], X[:, 1], c=y, cmap=cmap_bold)\n",
    "    ax.axis('tight')\n",
    "    ax.axis('off')\n",
    "    plt.tight_layout()\n",
    "    return ax"
   ]
  },
  {
   "cell_type": "code",
   "execution_count": null,
   "metadata": {},
   "outputs": [],
   "source": [
    "plot_estimator(svc, X, y)"
   ]
  },
  {
   "cell_type": "markdown",
   "metadata": {},
   "source": [
    "The SVM gets its name from the samples in the dataset from each class that lie closest to the other class. These training samples are called **support vectors** because changing their position in *p*-dimensional space would change the location of the decision boundary. \n",
    "\n",
    "In scikits-learn, the indices of the support vectors for each class can be found in the `support_vectors_` attribute of the `SVC` object. Here is a 2 class problem using only classes 1 and 2 in the wine dataset.\n",
    "\n",
    "The support vectors are circled."
   ]
  },
  {
   "cell_type": "code",
   "execution_count": null,
   "metadata": {},
   "outputs": [],
   "source": [
    "# Extract classes 1 and 2\n",
    "X, y = X[np.in1d(y, [1, 2])], y[np.in1d(y, [1, 2])]\n",
    "\n",
    "plot_estimator(svc, X, y)\n",
    "plt.scatter(svc.support_vectors_[:, 0], \n",
    "            svc.support_vectors_[:, 1], \n",
    "            s=120, \n",
    "            facecolors='none', \n",
    "            linewidths=2,\n",
    "            zorder=10)"
   ]
  },
  {
   "cell_type": "markdown",
   "metadata": {},
   "source": [
    "Clearly, these classes are not linearly separable.\n",
    "\n",
    "As we learned, regularization is tuned via the $C$ parameter. In practice, a large $C$ value means that the number of support vectors is small (less regularization), while a small $C$ implies many support vectors (more regularization). scikit-learn sets a default value of $C=1$."
   ]
  },
  {
   "cell_type": "code",
   "execution_count": null,
   "metadata": {},
   "outputs": [],
   "source": [
    "def plot_regularized(power, ax=None):\n",
    "    svc = svm.SVC(kernel='linear', C=10**power)\n",
    "    ax = plot_estimator(svc, X, y, ax=ax)\n",
    "    ax.scatter(svc.support_vectors_[:, 0], svc.support_vectors_[:, 1], s=80, \n",
    "            facecolors='none', linewidths=2, zorder=10, alpha=0.6, edgecolors='k')\n",
    "    ax.set_title(\"C = 10^{}\".format(power))\n",
    "    \n",
    "fig, axes = plt.subplots(1, 3, figsize=(12,5))\n",
    "for i,c in enumerate([-2, 2, 6]):\n",
    "        plot_regularized(c, axes[i])"
   ]
  },
  {
   "cell_type": "markdown",
   "metadata": {},
   "source": [
    "We can choose from a suite of available kernels (`linear`, `poly`, `rbf`, `sigmoid`, `precomputed`) or a custom kernel can be passed as a function. Note that the radial basis function (`rbf`) kernel is just a Gaussian kernel, but with parameter $\\gamma=1/\\sigma^2$."
   ]
  },
  {
   "cell_type": "code",
   "execution_count": null,
   "metadata": {},
   "outputs": [],
   "source": [
    "def plot_poly_svc(degree=3, ax=None):\n",
    "    svc_poly = svm.SVC(kernel='poly', degree=degree)\n",
    "    ax = plot_estimator(svc_poly, X, y, ax=ax)\n",
    "    ax.scatter(svc_poly.support_vectors_[:, 0], svc_poly.support_vectors_[:, 1], \n",
    "               s=80, facecolors='none', linewidths=2, zorder=10, alpha=0.8, edgecolors='k')\n",
    "    \n",
    "fig, axes = plt.subplots(1, 3, figsize=(12,5))\n",
    "for i,d in enumerate([1, 4, 7]):\n",
    "        plot_poly_svc(d, axes[i])"
   ]
  },
  {
   "cell_type": "code",
   "execution_count": null,
   "metadata": {},
   "outputs": [],
   "source": [
    "def plot_rbf_svc(power=1, ax=None):\n",
    "    \n",
    "    svc_rbf = svm.SVC(kernel='rbf', gamma=10**power)\n",
    "    ax = plot_estimator(svc_rbf, X, y, ax=ax)\n",
    "    ax.scatter(svc_rbf.support_vectors_[:, 0], svc_rbf.support_vectors_[:, 1], \n",
    "               s=80, facecolors='none', linewidths=2, zorder=10)\n",
    "    ax.set_title(\"$\\\\gamma=10^{}$\".format(power))\n",
    "    \n",
    "fig, axes = plt.subplots(1, 3, figsize=(12,5))\n",
    "for i,d in enumerate([0, 1, 2]):\n",
    "        plot_rbf_svc(d, axes[i])"
   ]
  },
  {
   "cell_type": "markdown",
   "metadata": {},
   "source": [
    "Of course, the radial basis function (RBF) kernel is very flexible and performs best for this dataset. However, it is easy to get carried away tuning to a training dataset--we don't really believe the resulting decision boundary, do we?"
   ]
  },
  {
   "cell_type": "markdown",
   "metadata": {},
   "source": [
    "## Parameter Tuning\n",
    "\n",
    "In order to make objective choices for either kernels or hyperparameter values, we can apply a technique known as cross-validation, which we will cover later. \n",
    "\n",
    "In the meantime, we can start to think about how we may evaluate the model. Every estimator class in `scikit-learn` exposes a `score` method that can judge the quality of the fit (or the prediction) on new data.\n",
    "\n",
    "The `score(x, y)` method for the `SVC` class returns the *mean accuracy* of the predictions from `x` with respect to `y`, for the fitted SVM."
   ]
  },
  {
   "cell_type": "code",
   "execution_count": null,
   "metadata": {},
   "outputs": [],
   "source": [
    "svc_lin = svm.SVC(kernel='linear', C=2)\n",
    "svc_lin.fit(X, y)\n",
    "svc_lin.score(X, y)"
   ]
  },
  {
   "cell_type": "code",
   "execution_count": null,
   "metadata": {},
   "outputs": [],
   "source": [
    "svc_poly = svm.SVC(kernel='poly', degree=3)\n",
    "svc_poly.fit(X, y)\n",
    "svc_poly.score(X, y)"
   ]
  },
  {
   "cell_type": "code",
   "execution_count": null,
   "metadata": {},
   "outputs": [],
   "source": [
    "svc_rbf = svm.SVC(kernel='rbf', gamma=1e-2)\n",
    "svc_rbf.fit(X, y)\n",
    "svc_rbf.score(X, y)"
   ]
  },
  {
   "cell_type": "markdown",
   "metadata": {},
   "source": [
    "Each estimator in `scikit-learn` has a default estimator score method, which is an evaluation criterion for the problem they are designed to solve. For the `SVC` class, this is the **mean accuracy**, as shown above.\n",
    "\n",
    "We will look at some alternative meterics later."
   ]
  },
  {
   "cell_type": "markdown",
   "metadata": {},
   "source": [
    "## Exercise: Titanic survival\n",
    "\n",
    "Try to estimate a reasonable support vector classfier for the fate of passengers on the Titanic (`../data/titanic.xls`). Specifically, see if you can correctly classify the survivors based on the covariates available in the dataset. Try different parameters and see if you can get the best fit.\n",
    "\n",
    "As an extension, use multiple imputation to allow for the inclusion of age into the analysis, and see if it makes a difference in the results."
   ]
  },
  {
   "cell_type": "code",
   "execution_count": null,
   "metadata": {},
   "outputs": [],
   "source": [
    "titanic = pd.read_excel(\"../data/titanic.xls\", \"titanic\")\n",
    "titanic.head()"
   ]
  },
  {
   "cell_type": "code",
   "execution_count": null,
   "metadata": {
    "collapsed": true
   },
   "outputs": [],
   "source": [
    "# Write answer here"
   ]
  },
  {
   "cell_type": "markdown",
   "metadata": {},
   "source": [
    "## References\n",
    "\n",
    "[Coursera's Machine Learning course](https://www.coursera.org/course/ml) by Stanford's Andrew Ng\n",
    "\n",
    "[`scikit-learn` User's Guide](http://scikit-learn.org/stable/modules/svm.html) SVM section\n",
    "\n",
    "[Scikit-learn tutorials for the Scipy 2013 conference](https://github.com/jakevdp/sklearn_scipy2013) by Jake Vanderplas"
   ]
  }
 ],
 "metadata": {
  "kernelspec": {
   "display_name": "Python 3",
   "language": "python",
   "name": "python3"
  },
  "language_info": {
   "codemirror_mode": {
    "name": "ipython",
    "version": 3
   },
   "file_extension": ".py",
   "mimetype": "text/x-python",
   "name": "python",
   "nbconvert_exporter": "python",
   "pygments_lexer": "ipython3",
   "version": "3.6.1"
  },
  "latex_envs": {
   "bibliofile": "biblio.bib",
   "cite_by": "apalike",
   "current_citInitial": 1,
   "eqLabelWithNumbers": true,
   "eqNumInitial": 0
  },
  "widgets": {
   "state": {
    "59860840a316489c8100eb3012419587": {
     "views": [
      {
       "cell_index": 134
      }
     ]
    },
    "8da357e65c2d4f9f82af9d5556594d27": {
     "views": [
      {
       "cell_index": 41
      }
     ]
    }
   },
   "version": "1.2.0"
  }
 },
 "nbformat": 4,
 "nbformat_minor": 1
}
