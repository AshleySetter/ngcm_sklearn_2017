{
 "cells": [
  {
   "cell_type": "markdown",
   "metadata": {},
   "source": [
    "# Unsupvervised Learning\n",
    "\n",
    "Clustering is a class of unsupervised learning methods that associates observations according to some specified measure of similarity (e.g. Euclidean distance)."
   ]
  },
  {
   "cell_type": "markdown",
   "metadata": {},
   "source": [
    "## K-means Algorithm\n",
    "\n",
    "The K-means clustering algorithm associates each point $x_i$ in a set of input points $\\{x_1, x_2, \\ldots, x_m\\}$ to $K$ clusters. Each cluster is specified by a **centroid** that is the average location of all the points in the cluster. The algorithm proceeds iteratively from arbitrary centroid locations, updating the membership of each point according to minimum distance, then updating the centroid location based on the new cluster membership. \n",
    "\n",
    "In this sense, it is similar to the expectation maximization (EM) algorithm. Recall that in EM we iteratively assigned labels to observations, according to which mixture component they were most likely to have been derived from. K-means is simpler, in that we just use the minimum distance to assign membership.\n",
    "\n",
    "The algorithm will have converged when the assignment of points to centroids does not change with each iteration."
   ]
  },
  {
   "cell_type": "markdown",
   "metadata": {},
   "source": [
    "### Algorithm\n",
    "\n",
    "1. Initialize cluster centroids:\n",
    "\n",
    "$$\\mu^{(0)}_1, \\ldots, \\mu^{(0)}_k \\in \\mathbb{R}^n$$\n",
    "\n",
    "2. Iterate until converged:\n",
    "\n",
    "    a. Set $c_i = \\text{argmin}_j || x_i - \\mu_j^{(s)} ||$\n",
    "    \n",
    "    b. Update centroids:\n",
    "    \n",
    "    $$\\mu_j^{(s+1)} = \\frac{\\sum_{i=1}^m I[c_i = j] x_i}{\\sum_{i=1}^m I[c_i = j]}$$"
   ]
  },
  {
   "cell_type": "markdown",
   "metadata": {},
   "source": [
    "The K-means algorithm is simply a Gaussian mixture model with two restrictions: \n",
    "\n",
    "1. the covariance matrix is spherical: \n",
    "\n",
    "    $$\\Sigma_k = \\sigma I_D$$\n",
    "\n",
    "2. the mixture weights are fixed:\n",
    "\n",
    "    $$\\pi_k = \\frac{1}{K}$$\n",
    "\n",
    "Hence, we are only interested in locating the appropriate centroid of the clusters. This serves to speed computation."
   ]
  },
  {
   "cell_type": "markdown",
   "metadata": {},
   "source": [
    "We can define the distortion function:\n",
    "\n",
    "$$J(c,\\mu) = \\sum_{i]1}^m ||x_i - \\mu_{c_i}||$$\n",
    "\n",
    "which gets smaller at every iteration. So, k-means is coordinate ascent on $J(c,\\mu)$"
   ]
  },
  {
   "cell_type": "markdown",
   "metadata": {},
   "source": [
    "### Choosing $k$\n",
    "\n",
    "To check whether a chosen $k$ is reasonable, one approach is to compare the distances between the centroids to the mean distance bewween each data point and their assigned centroid. A good fit involves relatively large inter-centroid distances. \n",
    "\n",
    "The appropriate value for k (the number of clusters) may depend on the goals of the analysis, or it may be chosen algorithmically, using an optimization procedure."
   ]
  },
  {
   "cell_type": "markdown",
   "metadata": {},
   "source": [
    "## Example: clustering random points"
   ]
  },
  {
   "cell_type": "code",
   "execution_count": 1,
   "metadata": {},
   "outputs": [
    {
     "data": {
      "text/plain": [
       "<matplotlib.collections.PathCollection at 0x10e9d87b8>"
      ]
     },
     "execution_count": 1,
     "metadata": {},
     "output_type": "execute_result"
    },
    {
     "data": {
      "image/png": "[encoded data removed]",
      "text/plain": [
       "<matplotlib.figure.Figure at 0x10267ed30>"
      ]
     },
     "metadata": {},
     "output_type": "display_data"
    }
   ],
   "source": [
    "%matplotlib inline\n",
    "import seaborn as sns; sns.set_context('notebook')\n",
    "import numpy as np\n",
    "import matplotlib.pyplot as plt\n",
    "\n",
    "x, y = np.random.uniform(0, 10, 50).reshape(2, 25)\n",
    "plt.scatter(x, y)"
   ]
  },
  {
   "cell_type": "markdown",
   "metadata": {},
   "source": [
    "Let's start with $k=4$, arbitrarily assigned:"
   ]
  },
  {
   "cell_type": "code",
   "execution_count": 2,
   "metadata": {},
   "outputs": [],
   "source": [
    "centroids = (3, 3), (3, 7), (7, 3), (7, 7)"
   ]
  },
  {
   "cell_type": "code",
   "execution_count": 3,
   "metadata": {},
   "outputs": [
    {
     "data": {
      "text/plain": [
       "array([[3, 3, 7, 7],\n",
       "       [3, 7, 3, 7]])"
      ]
     },
     "execution_count": 3,
     "metadata": {},
     "output_type": "execute_result"
    }
   ],
   "source": [
    "np.transpose(centroids)"
   ]
  },
  {
   "cell_type": "code",
   "execution_count": 4,
   "metadata": {},
   "outputs": [
    {
     "data": {
      "text/plain": [
       "<matplotlib.collections.PathCollection at 0x102becc88>"
      ]
     },
     "execution_count": 4,
     "metadata": {},
     "output_type": "execute_result"
    },
    {
     "data": {
      "image/png": "[encoded data removed]",
      "text/plain": [
       "<matplotlib.figure.Figure at 0x102becd30>"
      ]
     },
     "metadata": {},
     "output_type": "display_data"
    }
   ],
   "source": [
    "plt.scatter(x, y)\n",
    "plt.scatter(*np.transpose(centroids), c='r', marker='+', s=100)"
   ]
  },
  {
   "cell_type": "markdown",
   "metadata": {},
   "source": [
    "We can use the function `cdist` from SciPy to calculate the distances from each point to each centroid."
   ]
  },
  {
   "cell_type": "code",
   "execution_count": 5,
   "metadata": {},
   "outputs": [
    {
     "data": {
      "text/plain": [
       "(4, 25)"
      ]
     },
     "execution_count": 5,
     "metadata": {},
     "output_type": "execute_result"
    }
   ],
   "source": [
    "from scipy.spatial.distance import cdist\n",
    "\n",
    "distances = cdist(centroids, list(zip(x,y)))\n",
    "distances.shape"
   ]
  },
  {
   "cell_type": "markdown",
   "metadata": {},
   "source": [
    "We can make the initial assignment to centroids by picking the minimum distance."
   ]
  },
  {
   "cell_type": "code",
   "execution_count": 6,
   "metadata": {},
   "outputs": [
    {
     "data": {
      "text/plain": [
       "array([3, 3, 1, 2, 1, 0, 1, 1, 0, 1, 3, 0, 1, 1, 2, 3, 1, 3, 0, 1, 3, 0, 1,\n",
       "       3, 2])"
      ]
     },
     "execution_count": 6,
     "metadata": {},
     "output_type": "execute_result"
    }
   ],
   "source": [
    "labels = distances.argmin(axis=0)\n",
    "labels"
   ]
  },
  {
   "cell_type": "code",
   "execution_count": 7,
   "metadata": {},
   "outputs": [
    {
     "data": {
      "text/plain": [
       "<matplotlib.collections.PathCollection at 0x110d2aef0>"
      ]
     },
     "execution_count": 7,
     "metadata": {},
     "output_type": "execute_result"
    },
    {
     "data": {
      "image/png": "[encoded data removed]",
      "text/plain": [
       "<matplotlib.figure.Figure at 0x102b47320>"
      ]
     },
     "metadata": {},
     "output_type": "display_data"
    }
   ],
   "source": [
    "plt.scatter(x, y, c=np.array(list('rgbc'))[labels])\n",
    "plt.scatter(*np.transpose(centroids), c='r', marker='+', s=100)"
   ]
  },
  {
   "cell_type": "markdown",
   "metadata": {},
   "source": [
    "Now we can re-assign the centroid locations based on the means of the current members' locations."
   ]
  },
  {
   "cell_type": "code",
   "execution_count": 8,
   "metadata": {},
   "outputs": [],
   "source": [
    "new_centroids = [(x[labels==i].mean(), y[labels==i].mean())\n",
    "                 for i in range(len(centroids))]"
   ]
  },
  {
   "cell_type": "code",
   "execution_count": 9,
   "metadata": {},
   "outputs": [
    {
     "data": {
      "text/plain": [
       "<matplotlib.collections.PathCollection at 0x110e69940>"
      ]
     },
     "execution_count": 9,
     "metadata": {},
     "output_type": "execute_result"
    },
    {
     "data": {
      "image/png": "[encoded data removed]",
      "text/plain": [
       "<matplotlib.figure.Figure at 0x110d59898>"
      ]
     },
     "metadata": {},
     "output_type": "display_data"
    }
   ],
   "source": [
    "plt.scatter(x, y, c=np.array(list('rgbc'))[labels])\n",
    "plt.scatter(*np.transpose(new_centroids), c='r', marker='+', s=100)"
   ]
  },
  {
   "cell_type": "markdown",
   "metadata": {},
   "source": [
    "So, we simply iterate these steps until convergence."
   ]
  },
  {
   "cell_type": "code",
   "execution_count": 10,
   "metadata": {},
   "outputs": [],
   "source": [
    "centroids = new_centroids\n",
    "iterations = 20\n",
    "\n",
    "for _ in range(iterations):\n",
    "    distances = cdist(centroids, list(zip(x,y)))\n",
    "    labels = distances.argmin(axis=0)\n",
    "    centroids = [(x[labels==i].mean(), y[labels==i].mean())\n",
    "                 for i in range(len(centroids))]"
   ]
  },
  {
   "cell_type": "code",
   "execution_count": 11,
   "metadata": {},
   "outputs": [
    {
     "data": {
      "text/plain": [
       "<matplotlib.collections.PathCollection at 0x110f96c18>"
      ]
     },
     "execution_count": 11,
     "metadata": {},
     "output_type": "execute_result"
    },
    {
     "data": {
      "image/png": "[encoded data removed]",
      "text/plain": [
       "<matplotlib.figure.Figure at 0x110d6a208>"
      ]
     },
     "metadata": {},
     "output_type": "display_data"
    }
   ],
   "source": [
    "plt.scatter(x, y, c=np.array(list('rgbc'))[labels])\n",
    "plt.scatter(*np.transpose(centroids), c='r', marker='+', s=100)"
   ]
  },
  {
   "cell_type": "markdown",
   "metadata": {},
   "source": [
    "## k-means using `scikit-learn`\n",
    "\n",
    "The `scikit-learn` package includes a `KMeans` class for flexibly fitting K-means models. It includes additional features, such as initialization options and the ability to set the convergence tolerance."
   ]
  },
  {
   "cell_type": "code",
   "execution_count": 12,
   "metadata": {},
   "outputs": [
    {
     "data": {
      "text/plain": [
       "KMeans(algorithm='auto', copy_x=True, init='k-means++', max_iter=300,\n",
       "    n_clusters=4, n_init=10, n_jobs=1, precompute_distances='auto',\n",
       "    random_state=<mtrand.RandomState object at 0x111863438>, tol=0.0001,\n",
       "    verbose=0)"
      ]
     },
     "execution_count": 12,
     "metadata": {},
     "output_type": "execute_result"
    }
   ],
   "source": [
    "from sklearn.cluster import KMeans\n",
    "from numpy.random import RandomState\n",
    "rng = RandomState(1)\n",
    "\n",
    "# Instantiate model\n",
    "kmeans = KMeans(n_clusters=4, random_state=rng)\n",
    "# Fit model\n",
    "kmeans.fit(np.transpose((x,y)))"
   ]
  },
  {
   "cell_type": "markdown",
   "metadata": {},
   "source": [
    "After fitting, we can retrieve the labels and cluster centers."
   ]
  },
  {
   "cell_type": "code",
   "execution_count": 13,
   "metadata": {},
   "outputs": [
    {
     "data": {
      "text/plain": [
       "array([0, 0, 2, 3, 2, 1, 0, 2, 1, 2, 0, 1, 2, 2, 3, 0, 2, 0, 1, 2, 0, 1, 2,\n",
       "       0, 3], dtype=int32)"
      ]
     },
     "execution_count": 13,
     "metadata": {},
     "output_type": "execute_result"
    }
   ],
   "source": [
    "kmeans.labels_"
   ]
  },
  {
   "cell_type": "code",
   "execution_count": 14,
   "metadata": {},
   "outputs": [
    {
     "data": {
      "text/plain": [
       "array([[ 6.99553087,  6.78664363],\n",
       "       [ 2.32349476,  2.06501856],\n",
       "       [ 2.22562482,  7.94708515],\n",
       "       [ 7.42631435,  1.90417106]])"
      ]
     },
     "execution_count": 14,
     "metadata": {},
     "output_type": "execute_result"
    }
   ],
   "source": [
    "kmeans.cluster_centers_"
   ]
  },
  {
   "cell_type": "markdown",
   "metadata": {},
   "source": [
    "The resulting plot should look very similar to the one we fit by hand."
   ]
  },
  {
   "cell_type": "code",
   "execution_count": 15,
   "metadata": {},
   "outputs": [
    {
     "data": {
      "text/plain": [
       "<matplotlib.collections.PathCollection at 0x111a6de48>"
      ]
     },
     "execution_count": 15,
     "metadata": {},
     "output_type": "execute_result"
    },
    {
     "data": {
      "image/png": "[encoded data removed]",
      "text/plain": [
       "<matplotlib.figure.Figure at 0x111859e10>"
      ]
     },
     "metadata": {},
     "output_type": "display_data"
    }
   ],
   "source": [
    "plt.scatter(x, y, c=np.array(list('rgbc'))[kmeans.labels_])\n",
    "plt.scatter(*kmeans.cluster_centers_.T, c='r', marker='+', s=100)"
   ]
  },
  {
   "cell_type": "markdown",
   "metadata": {},
   "source": [
    "## Example: Wine chemistry\n",
    "\n",
    "Recall the wine dataset in `wine.dat` that includes thirteen chemical measurements carried out on each of 178 wines from three regions of Italy. If we did not have the labels for the wines, we might be interested to see whether a clustering algorithm could correctly assign labels to the wines."
   ]
  },
  {
   "cell_type": "code",
   "execution_count": 16,
   "metadata": {},
   "outputs": [
    {
     "data": {
      "text/html": [
       "<div>\n",
       "<style>\n",
       "    .dataframe thead tr:only-child th {\n",
       "        text-align: right;\n",
       "    }\n",
       "\n",
       "    .dataframe thead th {\n",
       "        text-align: left;\n",
       "    }\n",
       "\n",
       "    .dataframe tbody tr th {\n",
       "        vertical-align: top;\n",
       "    }\n",
       "</style>\n",
       "<table border=\"1\" class=\"dataframe\">\n",
       "  <thead>\n",
       "    <tr style=\"text-align: right;\">\n",
       "      <th></th>\n",
       "      <th>Grape</th>\n",
       "      <th>Alcohol</th>\n",
       "      <th>Malic acid</th>\n",
       "      <th>Ash</th>\n",
       "      <th>Alcalinity of ash</th>\n",
       "      <th>Magnesium</th>\n",
       "      <th>Total phenols</th>\n",
       "      <th>Flavanoids</th>\n",
       "      <th>Nonflavanoid phenols</th>\n",
       "      <th>Proanthocyanins</th>\n",
       "      <th>Color intensity</th>\n",
       "      <th>Hue</th>\n",
       "      <th>OD280/OD315 of diluted wines</th>\n",
       "      <th>Proline</th>\n",
       "    </tr>\n",
       "  </thead>\n",
       "  <tbody>\n",
       "    <tr>\n",
       "      <th>0</th>\n",
       "      <td>1</td>\n",
       "      <td>1.51</td>\n",
       "      <td>-0.56</td>\n",
       "      <td>0.23</td>\n",
       "      <td>-1.17</td>\n",
       "      <td>1.91</td>\n",
       "      <td>0.81</td>\n",
       "      <td>1.03</td>\n",
       "      <td>-0.66</td>\n",
       "      <td>1.22</td>\n",
       "      <td>0.25</td>\n",
       "      <td>0.36</td>\n",
       "      <td>1.84</td>\n",
       "      <td>1.01</td>\n",
       "    </tr>\n",
       "    <tr>\n",
       "      <th>1</th>\n",
       "      <td>1</td>\n",
       "      <td>0.25</td>\n",
       "      <td>-0.50</td>\n",
       "      <td>-0.83</td>\n",
       "      <td>-2.48</td>\n",
       "      <td>0.02</td>\n",
       "      <td>0.57</td>\n",
       "      <td>0.73</td>\n",
       "      <td>-0.82</td>\n",
       "      <td>-0.54</td>\n",
       "      <td>-0.29</td>\n",
       "      <td>0.40</td>\n",
       "      <td>1.11</td>\n",
       "      <td>0.96</td>\n",
       "    </tr>\n",
       "    <tr>\n",
       "      <th>2</th>\n",
       "      <td>1</td>\n",
       "      <td>0.20</td>\n",
       "      <td>0.02</td>\n",
       "      <td>1.11</td>\n",
       "      <td>-0.27</td>\n",
       "      <td>0.09</td>\n",
       "      <td>0.81</td>\n",
       "      <td>1.21</td>\n",
       "      <td>-0.50</td>\n",
       "      <td>2.13</td>\n",
       "      <td>0.27</td>\n",
       "      <td>0.32</td>\n",
       "      <td>0.79</td>\n",
       "      <td>1.39</td>\n",
       "    </tr>\n",
       "    <tr>\n",
       "      <th>3</th>\n",
       "      <td>1</td>\n",
       "      <td>1.69</td>\n",
       "      <td>-0.35</td>\n",
       "      <td>0.49</td>\n",
       "      <td>-0.81</td>\n",
       "      <td>0.93</td>\n",
       "      <td>2.48</td>\n",
       "      <td>1.46</td>\n",
       "      <td>-0.98</td>\n",
       "      <td>1.03</td>\n",
       "      <td>1.18</td>\n",
       "      <td>-0.43</td>\n",
       "      <td>1.18</td>\n",
       "      <td>2.33</td>\n",
       "    </tr>\n",
       "    <tr>\n",
       "      <th>4</th>\n",
       "      <td>1</td>\n",
       "      <td>0.29</td>\n",
       "      <td>0.23</td>\n",
       "      <td>1.84</td>\n",
       "      <td>0.45</td>\n",
       "      <td>1.28</td>\n",
       "      <td>0.81</td>\n",
       "      <td>0.66</td>\n",
       "      <td>0.23</td>\n",
       "      <td>0.40</td>\n",
       "      <td>-0.32</td>\n",
       "      <td>0.36</td>\n",
       "      <td>0.45</td>\n",
       "      <td>-0.04</td>\n",
       "    </tr>\n",
       "  </tbody>\n",
       "</table>\n",
       "</div>"
      ],
      "text/plain": [
       "   Grape  Alcohol  Malic acid   Ash  Alcalinity of ash  Magnesium  \\\n",
       "0      1     1.51       -0.56  0.23              -1.17       1.91   \n",
       "1      1     0.25       -0.50 -0.83              -2.48       0.02   \n",
       "2      1     0.20        0.02  1.11              -0.27       0.09   \n",
       "3      1     1.69       -0.35  0.49              -0.81       0.93   \n",
       "4      1     0.29        0.23  1.84               0.45       1.28   \n",
       "\n",
       "   Total phenols  Flavanoids  Nonflavanoid phenols  Proanthocyanins  \\\n",
       "0           0.81        1.03                 -0.66             1.22   \n",
       "1           0.57        0.73                 -0.82            -0.54   \n",
       "2           0.81        1.21                 -0.50             2.13   \n",
       "3           2.48        1.46                 -0.98             1.03   \n",
       "4           0.81        0.66                  0.23             0.40   \n",
       "\n",
       "   Color intensity   Hue  OD280/OD315 of diluted wines  Proline  \n",
       "0             0.25  0.36                          1.84     1.01  \n",
       "1            -0.29  0.40                          1.11     0.96  \n",
       "2             0.27  0.32                          0.79     1.39  \n",
       "3             1.18 -0.43                          1.18     2.33  \n",
       "4            -0.32  0.36                          0.45    -0.04  "
      ]
     },
     "execution_count": 16,
     "metadata": {},
     "output_type": "execute_result"
    }
   ],
   "source": [
    "import pandas as pd\n",
    "\n",
    "wine = pd.read_table(\"../data/wine.dat\", sep='\\s+')\n",
    "\n",
    "attributes = ['Grape',\n",
    "            'Alcohol',\n",
    "            'Malic acid',\n",
    "            'Ash',\n",
    "            'Alcalinity of ash',\n",
    "            'Magnesium',\n",
    "            'Total phenols',\n",
    "            'Flavanoids',\n",
    "            'Nonflavanoid phenols',\n",
    "            'Proanthocyanins',\n",
    "            'Color intensity',\n",
    "            'Hue',\n",
    "            'OD280/OD315 of diluted wines',\n",
    "            'Proline']\n",
    "\n",
    "wine.columns = attributes\n",
    "\n",
    "wine.head()"
   ]
  },
  {
   "cell_type": "code",
   "execution_count": 17,
   "metadata": {},
   "outputs": [],
   "source": [
    "X = wine.copy()\n",
    "y = X.pop('Grape')"
   ]
  },
  {
   "cell_type": "markdown",
   "metadata": {},
   "source": [
    "To simplify the analysis, and aid visualization, we will again perform a PCA to isolate the majority of the variation into two principal components."
   ]
  },
  {
   "cell_type": "code",
   "execution_count": 18,
   "metadata": {},
   "outputs": [],
   "source": [
    "from sklearn.decomposition import PCA\n",
    "\n",
    "pca = PCA(n_components=2, whiten=True).fit(X)\n",
    "X_pca = pca.transform(X)"
   ]
  },
  {
   "cell_type": "code",
   "execution_count": 19,
   "metadata": {},
   "outputs": [
    {
     "data": {
      "text/plain": [
       "<seaborn.axisgrid.FacetGrid at 0x111a2b438>"
      ]
     },
     "execution_count": 19,
     "metadata": {},
     "output_type": "execute_result"
    },
    {
     "data": {
      "image/png": "[encoded data removed]",
      "text/plain": [
       "<matplotlib.figure.Figure at 0x111a2b1d0>"
      ]
     },
     "metadata": {},
     "output_type": "display_data"
    }
   ],
   "source": [
    "wine['First Component'] = X_pca[:, 0]\n",
    "wine['Second Component'] = X_pca[:, 1]\n",
    "\n",
    "sns.lmplot('First Component', 'Second Component', \n",
    "           data=wine, \n",
    "           fit_reg=False, \n",
    "           hue=\"Grape\")"
   ]
  },
  {
   "cell_type": "markdown",
   "metadata": {},
   "source": [
    "We can now create a `KMeans` object with `k=3`, and fit the data with it."
   ]
  },
  {
   "cell_type": "code",
   "execution_count": 20,
   "metadata": {},
   "outputs": [
    {
     "data": {
      "text/plain": [
       "KMeans(algorithm='auto', copy_x=True, init='k-means++', max_iter=300,\n",
       "    n_clusters=3, n_init=10, n_jobs=1, precompute_distances='auto',\n",
       "    random_state=<mtrand.RandomState object at 0x111863438>, tol=0.0001,\n",
       "    verbose=0)"
      ]
     },
     "execution_count": 20,
     "metadata": {},
     "output_type": "execute_result"
    }
   ],
   "source": [
    "km_wine = KMeans(n_clusters=3, random_state=rng)\n",
    "km_wine.fit(X_pca)"
   ]
  },
  {
   "cell_type": "markdown",
   "metadata": {},
   "source": [
    "From this, we can extract the cluster centroids (in the `cluster_center_` attribute) and the group labels (in `labels_`) in order to generate a plot of the classification result."
   ]
  },
  {
   "cell_type": "code",
   "execution_count": 21,
   "metadata": {},
   "outputs": [
    {
     "data": {
      "text/plain": [
       "array([[-1.26, -0.77],\n",
       "       [ 1.06, -0.61],\n",
       "       [-0.04,  1.1 ]])"
      ]
     },
     "execution_count": 21,
     "metadata": {},
     "output_type": "execute_result"
    }
   ],
   "source": [
    "np.round(km_wine.cluster_centers_, decimals=2)"
   ]
  },
  {
   "cell_type": "code",
   "execution_count": 22,
   "metadata": {},
   "outputs": [
    {
     "data": {
      "text/plain": [
       "array([1, 1, 1, 1, 1, 1, 1, 1, 1, 1, 1, 1, 1, 1, 1, 1, 1, 1, 1, 1, 1, 1, 1,\n",
       "       1, 1, 1, 1, 1, 1, 1, 1, 1, 1, 1, 1, 1, 1, 1, 2, 1, 1, 1, 1, 1, 1, 1,\n",
       "       1, 1, 1, 1, 1, 1, 1, 1, 1, 1, 1, 1, 1, 2, 2, 2, 2, 2, 2, 2, 2, 2, 2,\n",
       "       2, 2, 2, 2, 1, 2, 2, 2, 2, 2, 2, 2, 2, 2, 0, 2, 2, 2, 2, 2, 2, 2, 2,\n",
       "       2, 2, 2, 1, 2, 2, 2, 2, 2, 2, 2, 2, 2, 2, 2, 2, 2, 2, 2, 2, 2, 2, 2,\n",
       "       2, 2, 2, 2, 2, 2, 1, 2, 2, 2, 2, 2, 2, 2, 2, 0, 0, 0, 0, 0, 0, 0, 0,\n",
       "       0, 0, 0, 0, 0, 0, 0, 0, 0, 0, 0, 0, 0, 0, 0, 0, 0, 0, 0, 0, 0, 0, 0,\n",
       "       0, 0, 0, 0, 0, 0, 0, 0, 0, 0, 0, 0, 0, 0, 0, 0, 0], dtype=int32)"
      ]
     },
     "execution_count": 22,
     "metadata": {},
     "output_type": "execute_result"
    }
   ],
   "source": [
    "km_wine.labels_"
   ]
  },
  {
   "cell_type": "markdown",
   "metadata": {},
   "source": [
    "Now we can visually examine the clusters, and compare them to the known labels."
   ]
  },
  {
   "cell_type": "code",
   "execution_count": 23,
   "metadata": {},
   "outputs": [
    {
     "data": {
      "text/plain": [
       "<matplotlib.collections.PathCollection at 0x111bd7240>"
      ]
     },
     "execution_count": 23,
     "metadata": {},
     "output_type": "execute_result"
    },
    {
     "data": {
      "image/png": "[encoded data removed]",
      "text/plain": [
       "<matplotlib.figure.Figure at 0x111c9cfd0>"
      ]
     },
     "metadata": {},
     "output_type": "display_data"
    }
   ],
   "source": [
    "wine['Cluster'] = km_wine.labels_ + 1\n",
    "\n",
    "grid = sns.lmplot('First Component', 'Second Component', \n",
    "           data=wine, \n",
    "           fit_reg=False, \n",
    "           hue=\"Cluster\")\n",
    "grid.ax.scatter(*wine.loc[wine.Grape!=wine.Cluster, ['First Component', 'Second Component']].values.T, \n",
    "             s=60, linewidth=1, facecolors='none', edgecolors='y')"
   ]
  },
  {
   "cell_type": "markdown",
   "metadata": {},
   "source": [
    "`scikit-learn` includes a suite of well-known clustering algorithms. Like most unsupervised learning models in the scikit, they expect the data to be clustered to have the shape `(n_samples, n_features)`:\n",
    "\n",
    "- `sklearn.cluster.KMeans`\n",
    ": The simplest, yet effective clustering algorithm. Needs to be provided with the\n",
    "number of clusters in advance, and assumes that the data is normalized as input\n",
    "(but use a PCA model as preprocessor).\n",
    "- `sklearn.cluster.MeanShift`\n",
    ": Can find better looking clusters than KMeans but is not scalable to high number of samples.\n",
    "- `sklearn.cluster.DBSCAN`\n",
    ": Can detect irregularly shaped clusters based on density, i.e. sparse regions in\n",
    "the input space are likely to become inter-cluster boundaries. Can also detect\n",
    "outliers (samples that are not part of a cluster)."
   ]
  },
  {
   "cell_type": "markdown",
   "metadata": {},
   "source": [
    "## Exercise: clustering baseball statistics\n",
    "\n",
    "We can use clustering to try to find interesting groupings among sets of baseball statistics. Load the baseball dataset and run a clustering algorithm on the set of three statistics:\n",
    "\n",
    "* hit rate: hits / at bats\n",
    "* strikeout rate: strikeouts / at bats\n",
    "* walk rate: bases on balls /at bats\n",
    "\n",
    "You should probably set a minimum number of at bats to qualify for the analysis, since there are pitchers that get only a handful of at bats each year.\n",
    "\n",
    "Since we are clustering in 3 dimensions, you can visualize the output as a series of pairwise plots."
   ]
  },
  {
   "cell_type": "code",
   "execution_count": 24,
   "metadata": {},
   "outputs": [
    {
     "data": {
      "text/html": [
       "<div>\n",
       "<style>\n",
       "    .dataframe thead tr:only-child th {\n",
       "        text-align: right;\n",
       "    }\n",
       "\n",
       "    .dataframe thead th {\n",
       "        text-align: left;\n",
       "    }\n",
       "\n",
       "    .dataframe tbody tr th {\n",
       "        vertical-align: top;\n",
       "    }\n",
       "</style>\n",
       "<table border=\"1\" class=\"dataframe\">\n",
       "  <thead>\n",
       "    <tr style=\"text-align: right;\">\n",
       "      <th></th>\n",
       "      <th>player</th>\n",
       "      <th>year</th>\n",
       "      <th>stint</th>\n",
       "      <th>team</th>\n",
       "      <th>lg</th>\n",
       "      <th>g</th>\n",
       "      <th>ab</th>\n",
       "      <th>r</th>\n",
       "      <th>h</th>\n",
       "      <th>X2b</th>\n",
       "      <th>...</th>\n",
       "      <th>rbi</th>\n",
       "      <th>sb</th>\n",
       "      <th>cs</th>\n",
       "      <th>bb</th>\n",
       "      <th>so</th>\n",
       "      <th>ibb</th>\n",
       "      <th>hbp</th>\n",
       "      <th>sh</th>\n",
       "      <th>sf</th>\n",
       "      <th>gidp</th>\n",
       "    </tr>\n",
       "    <tr>\n",
       "      <th>id</th>\n",
       "      <th></th>\n",
       "      <th></th>\n",
       "      <th></th>\n",
       "      <th></th>\n",
       "      <th></th>\n",
       "      <th></th>\n",
       "      <th></th>\n",
       "      <th></th>\n",
       "      <th></th>\n",
       "      <th></th>\n",
       "      <th></th>\n",
       "      <th></th>\n",
       "      <th></th>\n",
       "      <th></th>\n",
       "      <th></th>\n",
       "      <th></th>\n",
       "      <th></th>\n",
       "      <th></th>\n",
       "      <th></th>\n",
       "      <th></th>\n",
       "      <th></th>\n",
       "    </tr>\n",
       "  </thead>\n",
       "  <tbody>\n",
       "    <tr>\n",
       "      <th>88641</th>\n",
       "      <td>womacto01</td>\n",
       "      <td>2006</td>\n",
       "      <td>2</td>\n",
       "      <td>CHN</td>\n",
       "      <td>NL</td>\n",
       "      <td>19</td>\n",
       "      <td>50</td>\n",
       "      <td>6</td>\n",
       "      <td>14</td>\n",
       "      <td>1</td>\n",
       "      <td>...</td>\n",
       "      <td>2.0</td>\n",
       "      <td>1.0</td>\n",
       "      <td>1.0</td>\n",
       "      <td>4</td>\n",
       "      <td>4.0</td>\n",
       "      <td>0.0</td>\n",
       "      <td>0.0</td>\n",
       "      <td>3.0</td>\n",
       "      <td>0.0</td>\n",
       "      <td>0.0</td>\n",
       "    </tr>\n",
       "    <tr>\n",
       "      <th>88643</th>\n",
       "      <td>schilcu01</td>\n",
       "      <td>2006</td>\n",
       "      <td>1</td>\n",
       "      <td>BOS</td>\n",
       "      <td>AL</td>\n",
       "      <td>31</td>\n",
       "      <td>2</td>\n",
       "      <td>0</td>\n",
       "      <td>1</td>\n",
       "      <td>0</td>\n",
       "      <td>...</td>\n",
       "      <td>0.0</td>\n",
       "      <td>0.0</td>\n",
       "      <td>0.0</td>\n",
       "      <td>0</td>\n",
       "      <td>1.0</td>\n",
       "      <td>0.0</td>\n",
       "      <td>0.0</td>\n",
       "      <td>0.0</td>\n",
       "      <td>0.0</td>\n",
       "      <td>0.0</td>\n",
       "    </tr>\n",
       "    <tr>\n",
       "      <th>88645</th>\n",
       "      <td>myersmi01</td>\n",
       "      <td>2006</td>\n",
       "      <td>1</td>\n",
       "      <td>NYA</td>\n",
       "      <td>AL</td>\n",
       "      <td>62</td>\n",
       "      <td>0</td>\n",
       "      <td>0</td>\n",
       "      <td>0</td>\n",
       "      <td>0</td>\n",
       "      <td>...</td>\n",
       "      <td>0.0</td>\n",
       "      <td>0.0</td>\n",
       "      <td>0.0</td>\n",
       "      <td>0</td>\n",
       "      <td>0.0</td>\n",
       "      <td>0.0</td>\n",
       "      <td>0.0</td>\n",
       "      <td>0.0</td>\n",
       "      <td>0.0</td>\n",
       "      <td>0.0</td>\n",
       "    </tr>\n",
       "    <tr>\n",
       "      <th>88649</th>\n",
       "      <td>helliri01</td>\n",
       "      <td>2006</td>\n",
       "      <td>1</td>\n",
       "      <td>MIL</td>\n",
       "      <td>NL</td>\n",
       "      <td>20</td>\n",
       "      <td>3</td>\n",
       "      <td>0</td>\n",
       "      <td>0</td>\n",
       "      <td>0</td>\n",
       "      <td>...</td>\n",
       "      <td>0.0</td>\n",
       "      <td>0.0</td>\n",
       "      <td>0.0</td>\n",
       "      <td>0</td>\n",
       "      <td>2.0</td>\n",
       "      <td>0.0</td>\n",
       "      <td>0.0</td>\n",
       "      <td>0.0</td>\n",
       "      <td>0.0</td>\n",
       "      <td>0.0</td>\n",
       "    </tr>\n",
       "    <tr>\n",
       "      <th>88650</th>\n",
       "      <td>johnsra05</td>\n",
       "      <td>2006</td>\n",
       "      <td>1</td>\n",
       "      <td>NYA</td>\n",
       "      <td>AL</td>\n",
       "      <td>33</td>\n",
       "      <td>6</td>\n",
       "      <td>0</td>\n",
       "      <td>1</td>\n",
       "      <td>0</td>\n",
       "      <td>...</td>\n",
       "      <td>0.0</td>\n",
       "      <td>0.0</td>\n",
       "      <td>0.0</td>\n",
       "      <td>0</td>\n",
       "      <td>4.0</td>\n",
       "      <td>0.0</td>\n",
       "      <td>0.0</td>\n",
       "      <td>0.0</td>\n",
       "      <td>0.0</td>\n",
       "      <td>0.0</td>\n",
       "    </tr>\n",
       "  </tbody>\n",
       "</table>\n",
       "<p>5 rows × 22 columns</p>\n",
       "</div>"
      ],
      "text/plain": [
       "          player  year  stint team  lg   g  ab  r   h  X2b  ...   rbi   sb  \\\n",
       "id                                                          ...              \n",
       "88641  womacto01  2006      2  CHN  NL  19  50  6  14    1  ...   2.0  1.0   \n",
       "88643  schilcu01  2006      1  BOS  AL  31   2  0   1    0  ...   0.0  0.0   \n",
       "88645  myersmi01  2006      1  NYA  AL  62   0  0   0    0  ...   0.0  0.0   \n",
       "88649  helliri01  2006      1  MIL  NL  20   3  0   0    0  ...   0.0  0.0   \n",
       "88650  johnsra05  2006      1  NYA  AL  33   6  0   1    0  ...   0.0  0.0   \n",
       "\n",
       "        cs  bb   so  ibb  hbp   sh   sf  gidp  \n",
       "id                                             \n",
       "88641  1.0   4  4.0  0.0  0.0  3.0  0.0   0.0  \n",
       "88643  0.0   0  1.0  0.0  0.0  0.0  0.0   0.0  \n",
       "88645  0.0   0  0.0  0.0  0.0  0.0  0.0   0.0  \n",
       "88649  0.0   0  2.0  0.0  0.0  0.0  0.0   0.0  \n",
       "88650  0.0   0  4.0  0.0  0.0  0.0  0.0   0.0  \n",
       "\n",
       "[5 rows x 22 columns]"
      ]
     },
     "execution_count": 24,
     "metadata": {},
     "output_type": "execute_result"
    }
   ],
   "source": [
    "import pandas as pd\n",
    "\n",
    "baseball = pd.read_csv(\"../data/baseball.csv\", index_col=0)\n",
    "baseball.head()"
   ]
  },
  {
   "cell_type": "code",
   "execution_count": 25,
   "metadata": {},
   "outputs": [],
   "source": [
    "## Write answer here"
   ]
  },
  {
   "cell_type": "markdown",
   "metadata": {},
   "source": [
    "## DP-Means\n",
    "\n",
    "The major weakness of the k-means approach to clustering is that the number of clusters needs to be specified at the outset. However, there is usually uncertainty with respect to the appropriate number of clusters for a given dataset. A flexible alternative to k-means that allows for an unknown number of clusters involves using a Bayesian non-parametric mixture model instead (Kulis and Jordan 2011). In particular, a Dirichlet process (DP) mixture model, which we have seen in a previous lecture, probabilistically assigns observations to clusters, using a stick-breaking algorithm. \n",
    "\n",
    "Recall the definition of a finite mixture model:\n",
    "\n",
    "\\\\[f(y) = \\sum_{h=1}^{k} \\pi_h \\mathcal{K}(y|\\theta_h)\\\\]\n",
    "\n",
    "where \\\\(k\\\\) is the number of mixture components, \\\\(\\pi_h\\\\) is the mixing coefficient for component \\\\(h\\\\), and \\\\(K\\\\) specifies the mixing components (*e.g.* a Gaussian distribution), which has parameters \\\\(\\theta_h\\\\) for each component. \n",
    "\n",
    "A DP mixture extends this by placing a Dirichlet prior of dimension \\\\(k\\\\) on the mixing coefficients. The distribution over the group indicators can then be specified as a categorical distribution:\n",
    "\n",
    "\\\\[\\begin{aligned}\n",
    "\\mathbf{\\pi} &\\sim \\text{Dirichlet}(k, \\pi_0) \\\\\n",
    "z_1,\\ldots,z_n &\\sim \\text{Categorical}(\\mathbf{\\pi}) \\\\\n",
    "\\end{aligned}\\\\]\n",
    "\n",
    "We might then specify the observations as being a mixture of Gaussians, whose means are drawn from an appropriate prior distribution \\\\(P\\\\):\n",
    "\n",
    "\\\\[\\begin{aligned}\n",
    "\\theta_1,\\ldots,\\theta_k &\\sim P \\\\\n",
    "y_1,\\ldots,y_n &\\sim N(\\theta_{z[i]}, \\sigma I)\n",
    "\\end{aligned}\\\\]"
   ]
  },
  {
   "cell_type": "markdown",
   "metadata": {},
   "source": [
    "To demonstrate, we will implement a DP to cluster the iris dataset."
   ]
  },
  {
   "cell_type": "code",
   "execution_count": 26,
   "metadata": {},
   "outputs": [],
   "source": [
    "from sklearn.decomposition import PCA\n",
    "from sklearn import datasets\n",
    "\n",
    "iris = datasets.load_iris()\n",
    "\n",
    "pca = PCA(n_components=2, whiten=True).fit(iris.data)\n",
    "X_pca = pca.transform(iris.data)\n",
    "y = iris.target"
   ]
  },
  {
   "cell_type": "markdown",
   "metadata": {},
   "source": [
    "The `sklearn.mixture` module includes a variety of Gaussian Mixture Models, including the `BayesianGaussianMixture` which fits the mixture using either Dirichlet distribution priors or Dirichlet process priors, and fits them using **variational inference**."
   ]
  },
  {
   "cell_type": "code",
   "execution_count": 27,
   "metadata": {},
   "outputs": [],
   "source": [
    "from sklearn.mixture import BayesianGaussianMixture"
   ]
  },
  {
   "cell_type": "code",
   "execution_count": 28,
   "metadata": {},
   "outputs": [
    {
     "data": {
      "text/plain": [
       "BayesianGaussianMixture(covariance_prior=None, covariance_type='full',\n",
       "            degrees_of_freedom_prior=None, init_params='random',\n",
       "            max_iter=100, mean_precision_prior=1, mean_prior=None,\n",
       "            n_components=10, n_init=1, random_state=None, reg_covar=0,\n",
       "            tol=0.001, verbose=0, verbose_interval=10, warm_start=False,\n",
       "            weight_concentration_prior=100000.0,\n",
       "            weight_concentration_prior_type='dirichlet_process')"
      ]
     },
     "execution_count": 28,
     "metadata": {},
     "output_type": "execute_result"
    }
   ],
   "source": [
    "K = 10\n",
    "\n",
    "dp_mixture = BayesianGaussianMixture(weight_concentration_prior_type=\"dirichlet_process\", mean_precision_prior=1,\n",
    "                n_components=K, reg_covar=0, init_params='random', weight_concentration_prior=1e5)\n",
    "\n",
    "dp_mixture.fit(X_pca)"
   ]
  },
  {
   "cell_type": "code",
   "execution_count": 29,
   "metadata": {},
   "outputs": [],
   "source": [
    "import matplotlib as mpl\n",
    "import matplotlib.gridspec as gridspec\n",
    "\n",
    "colors = np.array(['#0072B2', '#F0E442', '#D55E00'])\n",
    "\n",
    "def plot_ellipses(ax, weights, means, covars):\n",
    "    for n in range(means.shape[0]):\n",
    "        eig_vals, eig_vecs = np.linalg.eigh(covars[n])\n",
    "        unit_eig_vec = eig_vecs[0] / np.linalg.norm(eig_vecs[0])\n",
    "        angle = np.arctan2(unit_eig_vec[1], unit_eig_vec[0])\n",
    "        # Ellipse needs degrees\n",
    "        angle = 180 * angle / np.pi\n",
    "        # eigenvector normalization\n",
    "        eig_vals = 2 * np.sqrt(2) * np.sqrt(eig_vals)\n",
    "        ell = mpl.patches.Ellipse(means[n], eig_vals[0], eig_vals[1],\n",
    "                                  180 + angle)\n",
    "        ell.set_clip_box(ax.bbox)\n",
    "        ell.set_alpha(weights[n])\n",
    "        ell.set_facecolor('#56B4E9')\n",
    "        ax.add_artist(ell)\n",
    "\n",
    "\n",
    "def plot_results(ax1, ax2, estimator, X, y):\n",
    "    ax1.scatter(X[:, 0], X[:, 1], s=15, marker='o', color=colors[y], alpha=0.8)\n",
    "    ax1.set_xticks(())\n",
    "    ax1.set_yticks(())\n",
    "    plot_ellipses(ax1, estimator.weights_, estimator.means_,\n",
    "                  estimator.covariances_)\n",
    "\n",
    "    ax2.get_xaxis().set_tick_params(direction='out')\n",
    "    ax2.yaxis.grid(True, alpha=0.7)\n",
    "    for k, w in enumerate(estimator.weights_):\n",
    "        ax2.bar(k - .45, w, width=0.9, color='#56B4E9', zorder=3)\n",
    "        ax2.text(k, w + 0.007, \"%.1f%%\" % (w * 100.),\n",
    "                 horizontalalignment='center')\n",
    "    ax2.set_xlim(-.6, K - .4)\n",
    "    ax2.set_ylim(0., 1.1)\n",
    "    ax2.tick_params(axis='y', which='both', left='off',\n",
    "                    right='off', labelleft='off')\n",
    "    ax2.tick_params(axis='x', which='both', top='off')\n",
    "\n",
    "    ax1.set_ylabel('Estimated Mixtures')\n",
    "    ax2.set_ylabel('Weight of each component')"
   ]
  },
  {
   "cell_type": "code",
   "execution_count": 30,
   "metadata": {
    "scrolled": false
   },
   "outputs": [
    {
     "data": {
      "image/png": "[encoded data removed]",
      "text/plain": [
       "<matplotlib.figure.Figure at 0x112114ba8>"
      ]
     },
     "metadata": {},
     "output_type": "display_data"
    }
   ],
   "source": [
    "plt.figure(figsize=(4.7 * 3, 8))\n",
    "plt.subplots_adjust(bottom=.04, top=0.90, hspace=.05, wspace=.05,\n",
    "                    left=.03, right=.99)\n",
    "\n",
    "gs = gridspec.GridSpec(3, 1)\n",
    "plot_results(plt.subplot(gs[:2]), plt.subplot(gs[2]), dp_mixture, X_pca, y)\n"
   ]
  },
  {
   "cell_type": "markdown",
   "metadata": {},
   "source": [
    "As we have shown, the Dirichlet process mixture results in infinite mixture models which do not fix the number of clusters in the data *a priori*. However, Bayesian non-parametric models require fitting via sampling algorithms or variational inference techniques that are non-trivial to implement and scale poorly with large data. This is in contrast to k-means, which is straightforward to implement and scales easily.\n",
    "\n",
    "It can be shown that the k-means algorithm is a limiting special case of the EM agorithm, if all of the covariance matrices associated with the clusters in a Gaussian mixture model set to $\\sigma I$ and we let $\\sigma$ go to zero. We can apply a similar limit to the Dirichlet process, using a Gibbs sampling algorithm. The result is a method with hard (rather than probabilistic) cluster assignments, but allows new clusters to be formed when points are far enough from existing cluster centroids.\n",
    "\n",
    "Suppose in a Gaussian mixture model, all gaussians have the same covariance $\\sigma I$, then the E-step of the EM algorithm becomes:\n",
    "\n",
    "$$\\gamma(z_{ic}) = \\frac{\\pi_c \\exp(-\\frac{1}{2}||x_i - \\pi_c||^2_2)}{\\sum_{j=1}^k \\pi_j \\exp(-\\frac{1}{2}||x_i - \\pi_j||^2_2)}$$\n",
    "\n",
    "where $\\gamma(z_{ic})$ is the probability of assigning point $i$ to cluster $c$. As $\\sigma \\rightarrow 0$, this probability approaches zero for all clusters except the closest one. The M-step simply recomputes the cluster means. Hence, this is an equivalent update to k-means.\n",
    "\n",
    "We can derive an analogous hard clustering algorithm, based on a Dirichlet process mixture model. We first define the baseline distribution $G_0$ to be a zero-mean Gaussian with covariance $\\rho I$. This allows us to use a straightforward Gibbs sampling update that results in new points being assigned to a new cluster with probability:\n",
    "\n",
    "$$\\frac{\\alpha}{Z}[2\\pi(\\rho + \\sigma)]^{(d/2)} \\exp\\left( -\\frac{1}{2(\\rho + \\sigma)}||x_i||^2 \\right)$$\n",
    "\n",
    "and to existing cluster $c$ with probability:\n",
    "\n",
    "$$\\frac{n_{-i,c}}{Z}[2\\pi\\sigma]^{(d/2)} \\exp\\left( -\\frac{1}{2\\sigma}||x_i - \\mu_c||^2_2 \\right)$$\n",
    "\n",
    "where $Z$ is a normalizing constant. We define $\\alpha = (1 + \\rho/\\sigma)^{d/2} \\exp\\left(-\\frac{\\lambda}{2\\sigma}\\right)$, for some $\\lambda$. The Gibbs sampling update becomes:\n",
    "\n",
    "$$\\hat{\\gamma}(z_{ic}) = \\frac{n_{-i,c} \\exp \\left(-\\frac{1}{2}||x_i - \\pi_c||^2 \\right)}{n_{-i,c} \\exp\\left(-\\frac{\\lambda}{2\\sigma} - \\frac{||x_i||^2}{2(\\rho + \\sigma)}\\right) + \\sum_{j=1}^k n_{-i,j} \\exp \\left(-\\frac{1}{2\\sigma}||x_i - \\pi_j||^2 \\right)}$$\n",
    "\n",
    "for existing clusters, and:\n",
    "\n",
    "$$\\hat{\\gamma}(z_{i,new}) = \\frac{\\exp \\left(-\\frac{1}{2\\sigma}\\left[\\lambda + \\frac{\\sigma}{\\rho + \\sigma}||x_i ||^2 \\right]\\right)}{n_{-i,c} \\exp\\left(-\\frac{\\lambda}{2\\sigma} - \\frac{||x_i||^2}{2(\\rho + \\sigma)}\\right) + \\sum_{j=1}^k n_{-i,j} \\exp \\left(-\\frac{1}{2\\sigma}||x_i - \\pi_j||^2 \\right)}$$\n",
    "\n",
    "for new clusters.\n",
    "\n",
    "As we allow $\\sigma \\rightarrow 0$ and leave $\\rho$ fixed, the $\\lambda$ term dominates the numerator. The result is that the probabilities become binary, with the closest cluster converging to one and the others to zero. This becomes identical to the k-means cluster assignment step, except that when the Euclidean distance is greater than $\\lambda$, we create a new cluster.\n",
    "\n",
    "The final step is to sample a mean for a new cluster, should one be created. This is taken from the posterior resulting from the prior $G_0$ and the likelihood of the single observation $x_i$ that seeds the new cluster. Since these are both Gaussian, the posterior will be Gaussian as well, with mean and covariance:\n",
    "\n",
    "$$\\begin{aligned}\n",
    "\\tilde{\\mu}_c &=& \\left(1 + \\frac{\\sigma}{\\rho n_c}\\right)^{-1} \\\\\n",
    "\\tilde{\\Sigma}_c &=& \\frac{\\sigma \\rho}{\\sigma + \\rho n_c}I\n",
    "\\end{aligned}$$\n",
    "\n",
    "But, as $\\sigma \\rightarrow 0$, the mean of the gaussian approaches $\\bar{x}_c$ and the covariance goes to zero, so we simply choose $\\bar{x}_c$ as the cluster center."
   ]
  },
  {
   "cell_type": "markdown",
   "metadata": {},
   "source": [
    "### DP-means algorithm\n",
    "\n",
    "1. Initialize number of clusters to 1, and assign all observations to that cluster. Calculate cluster mean to be global mean.\n",
    "2. Specify cluster penalty parameter \\\\(\\lambda\\\\)\n",
    "3. Initialize cluster indicators: \\\\(z_1 = z_2 = \\ldots, = z_n = 1 \\\\)\n",
    "4. Repeat until convergence:\n",
    "\n",
    "    + For each data point \\\\(x_i\\\\):\n",
    "    \n",
    "        + compute distance from means $d_{ic} = ||x_i - \\mu_c||^2$ for $c=1,\\ldots,k$\n",
    "        + If $\\min_c(d_{ic}) > \\lambda$ set $k = k+1$, $z_i = k$, $\\mu_k = x_i$\n",
    "        + Otherwise set $z_i = \\text{argmin}_c(d_{ic})$\n",
    "        \n",
    "    + Generate clusters $l_1, \\ldots, l_k$ from $z_1,\\ldots,z_n$\n",
    "    \n",
    "    + Recompute cluster means: $\\mu_j = \\frac{1}{|l_j|} \\sum_{x \\in l_j} x$"
   ]
  },
  {
   "cell_type": "code",
   "execution_count": 31,
   "metadata": {},
   "outputs": [],
   "source": [
    "def dp_means(x, lam, max_iter=100, tol=1e-5, metric='euclidean'):\n",
    "    \n",
    "    x = np.array(x)\n",
    "    n = x.shape[0]\n",
    "    k = 1\n",
    "    \n",
    "    # Initialize cluster indicators\n",
    "    z = np.ones(n, int)\n",
    "    \n",
    "    # Initialize with single cluster of all observations\n",
    "    mu = [x.mean(0)]\n",
    "    \n",
    "    # Initialize variables\n",
    "    converged = False\n",
    "    iteration = 0\n",
    "    ss = np.inf\n",
    "\n",
    "    # Iterate until converged or maxed out\n",
    "    while (not converged) and (iteration < max_iter):\n",
    "        \n",
    "        # Calculate distances for all points\n",
    "        d = cdist(x, np.array(mu), metric=metric)\n",
    "        \n",
    "        for i in range(n):\n",
    "            \n",
    "            if np.min(d[i]) > lam:\n",
    "                # Create new group\n",
    "\n",
    "                k += 1\n",
    "\n",
    "                z[i] = k - 1\n",
    "\n",
    "                mu += [x[i]]\n",
    "\n",
    "            else:\n",
    "                # Assign to closest group\n",
    "\n",
    "                z[i] = np.argmin(d[i])\n",
    "                \n",
    "        for j in range(k):\n",
    "            \n",
    "            # Recalculate centroids\n",
    "            if (z==j).sum():\n",
    "                indices = np.where(z==j)[0]\n",
    "                mu[j] = np.mean(x[indices], 0)\n",
    "                \n",
    "        ss_old = ss\n",
    "        \n",
    "        # Calcuate sum of squared distances to use as convergence criterion\n",
    "        ss = np.sum([[(x[i,j] - mu[z[i]][j])**2 for j in range(2)] for i in range(n)])\n",
    "\n",
    "        ss_diff = ss_old - ss\n",
    "        \n",
    "        if ss_diff < tol:\n",
    "            converged = True\n",
    "        \n",
    "        iteration += 1\n",
    "        \n",
    "    return(dict(centers=np.array(mu), z=z, k=k, iterations=iteration, converged=converged, ss=ss))"
   ]
  },
  {
   "cell_type": "code",
   "execution_count": 32,
   "metadata": {},
   "outputs": [
    {
     "data": {
      "image/png": "[encoded data removed]",
      "text/plain": [
       "<matplotlib.figure.Figure at 0x1121fae80>"
      ]
     },
     "metadata": {},
     "output_type": "display_data"
    }
   ],
   "source": [
    "x,y = X_pca.T\n",
    "fig, axes = plt.subplots(1, 3, figsize=(16, 4))\n",
    "for i,c in enumerate([2, 3, 4]):\n",
    "    dpm = dp_means(X_pca, c, metric='seuclidean')\n",
    "    axes[i].scatter(x, y, c=dpm['z'])\n",
    "    axes[i].scatter(*dpm['centers'].T, c='r', marker='+', s=100)\n",
    "    axes[i].set_title(r'$\\lambda$={0}, k={1}'.format(c, dpm['k']))"
   ]
  },
  {
   "cell_type": "code",
   "execution_count": 33,
   "metadata": {},
   "outputs": [],
   "source": [
    "clusters = []\n",
    "lambdas = np.linspace(2, 4)\n",
    "for c in lambdas:\n",
    "    dpm = dp_means(X_pca, c, metric='euclidean')\n",
    "    clusters.append(len(dpm['centers']))"
   ]
  },
  {
   "cell_type": "code",
   "execution_count": 34,
   "metadata": {},
   "outputs": [
    {
     "data": {
      "text/plain": [
       "[<matplotlib.lines.Line2D at 0x112838fd0>]"
      ]
     },
     "execution_count": 34,
     "metadata": {},
     "output_type": "execute_result"
    },
    {
     "data": {
      "image/png": "[encoded data removed]",
      "text/plain": [
       "<matplotlib.figure.Figure at 0x111a26978>"
      ]
     },
     "metadata": {},
     "output_type": "display_data"
    }
   ],
   "source": [
    "plt.plot(lambdas, clusters)"
   ]
  },
  {
   "cell_type": "markdown",
   "metadata": {},
   "source": [
    "### Exercise: Wine clustering\n",
    "\n",
    "Try running DP-means on the wine chemistry dataset. Try varying the value for `lam` to see where the number of clusters stabilizes."
   ]
  },
  {
   "cell_type": "code",
   "execution_count": 35,
   "metadata": {},
   "outputs": [],
   "source": [
    "# Write your answer here"
   ]
  },
  {
   "cell_type": "markdown",
   "metadata": {},
   "source": [
    "## References\n",
    "\n",
    "1. Kulis B and Jordan MI. Revisiting k-means: New Algorithms via Bayesian Nonparametrics. arXiv preprint [arXiv:11110352](http://arxiv.org/abs/1111.0352) 2011."
   ]
  }
 ],
 "metadata": {
  "_draft": {
   "nbviewer_url": "https://gist.github.com/ae9a27a5351908b9b1f611e14c0b91a6"
  },
  "gist": {
   "data": {
    "description": "Section6_2-Clustering.ipynb",
    "public": true
   },
   "id": "ae9a27a5351908b9b1f611e14c0b91a6"
  },
  "kernelspec": {
   "display_name": "Python 3",
   "language": "python",
   "name": "python3"
  },
  "language_info": {
   "codemirror_mode": {
    "name": "ipython",
    "version": 3
   },
   "file_extension": ".py",
   "mimetype": "text/x-python",
   "name": "python",
   "nbconvert_exporter": "python",
   "pygments_lexer": "ipython3",
   "version": "3.6.1"
  },
  "latex_envs": {
   "bibliofile": "biblio.bib",
   "cite_by": "apalike",
   "current_citInitial": 1,
   "eqLabelWithNumbers": true,
   "eqNumInitial": 0
  }
 },
 "nbformat": 4,
 "nbformat_minor": 1
}
